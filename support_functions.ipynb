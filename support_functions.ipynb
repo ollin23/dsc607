{
 "cells": [
  {
   "cell_type": "markdown",
   "metadata": {},
   "source": [
    "Support functions for "
   ]
  },
  {
   "cell_type": "code",
   "execution_count": 8,
   "metadata": {},
   "outputs": [],
   "source": [
    "def movie_search(title, dataset):\n",
    "    '''\n",
    "    movie_search returns entries for the given title\n",
    "    ***\n",
    "    title : string\n",
    "    \n",
    "    dataset : IMDB dataset\n",
    "    \n",
    "    Returns -\n",
    "        DataFrame\n",
    "    '''\n",
    "    try:\n",
    "        return dataset.loc[dataset[\"titles\"] == title]\n",
    "    except:\n",
    "        return \"Error: please provide the movie title and the dataset to search\""
   ]
  },
  {
   "cell_type": "code",
   "execution_count": 5,
   "metadata": {},
   "outputs": [],
   "source": [
    "def head(X, n=5):\n",
    "    '''\n",
    "    wrapper function for pd.DataFrame.head()\n",
    "    ***\n",
    "    X : dataframe\n",
    "    n : number of samples to include\n",
    "    \n",
    "    '''\n",
    "    return X.head(n)"
   ]
  },
  {
   "cell_type": "code",
   "execution_count": 3,
   "metadata": {},
   "outputs": [],
   "source": [
    "def tail(X, n=5):\n",
    "    '''\n",
    "    wrapper function for pd.DataFrame.tail()\n",
    "    ***\n",
    "    X : dataframe\n",
    "    n : number of samples to include\n",
    "    \n",
    "    '''\n",
    "    return X.tail(n)"
   ]
  },
  {
   "cell_type": "code",
   "execution_count": 10,
   "metadata": {},
   "outputs": [],
   "source": [
    "def info(X):\n",
    "    '''\n",
    "    wrapper function for pd.DataFrame.info()\n",
    "    ***\n",
    "    X : dataframe\n",
    "    '''\n",
    "    X.info()"
   ]
  },
  {
   "cell_type": "code",
   "execution_count": 11,
   "metadata": {},
   "outputs": [],
   "source": [
    "def rename(df, new_names):\n",
    "    df.columns = new_names"
   ]
  },
  {
   "cell_type": "code",
   "execution_count": 2,
   "metadata": {},
   "outputs": [],
   "source": [
    "def describe(X):\n",
    "    return X.describe().T"
   ]
  },
  {
   "cell_type": "code",
   "execution_count": null,
   "metadata": {},
   "outputs": [],
   "source": []
  }
 ],
 "metadata": {
  "kernelspec": {
   "display_name": "Python 3",
   "language": "python",
   "name": "python3"
  },
  "language_info": {
   "codemirror_mode": {
    "name": "ipython",
    "version": 3
   },
   "file_extension": ".py",
   "mimetype": "text/x-python",
   "name": "python",
   "nbconvert_exporter": "python",
   "pygments_lexer": "ipython3",
   "version": "3.8.5"
  }
 },
 "nbformat": 4,
 "nbformat_minor": 4
}
