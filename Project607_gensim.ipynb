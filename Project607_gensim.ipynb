{
 "cells": [
  {
   "cell_type": "code",
   "execution_count": 1,
   "id": "governmental-speed",
   "metadata": {},
   "outputs": [],
   "source": [
    "import pandas as pd\n",
    "import numpy as np"
   ]
  },
  {
   "cell_type": "code",
   "execution_count": 27,
   "id": "sorted-citizenship",
   "metadata": {},
   "outputs": [],
   "source": [
    "import sys"
   ]
  },
  {
   "cell_type": "code",
   "execution_count": 2,
   "id": "individual-economics",
   "metadata": {},
   "outputs": [],
   "source": [
    "pd.options.display.max_colwidth = 300"
   ]
  },
  {
   "cell_type": "code",
   "execution_count": 3,
   "id": "consistent-mistake",
   "metadata": {},
   "outputs": [],
   "source": [
    "data = pd.read_csv(\"data_v4.csv\")"
   ]
  },
  {
   "cell_type": "code",
   "execution_count": 4,
   "id": "natural-stranger",
   "metadata": {},
   "outputs": [],
   "source": [
    "%run ./support_functions.ipynb"
   ]
  },
  {
   "cell_type": "code",
   "execution_count": 436,
   "id": "enabling-overall",
   "metadata": {},
   "outputs": [],
   "source": [
    "%run ./project_algos.ipynb"
   ]
  },
  {
   "cell_type": "markdown",
   "id": "thorough-glasgow",
   "metadata": {},
   "source": [
    "## Embed documents"
   ]
  },
  {
   "cell_type": "markdown",
   "id": "animated-underground",
   "metadata": {},
   "source": [
    "#### Extract documents from dataset"
   ]
  },
  {
   "cell_type": "code",
   "execution_count": 6,
   "id": "statistical-split",
   "metadata": {},
   "outputs": [],
   "source": [
    "documents = data.descriptions.values"
   ]
  },
  {
   "cell_type": "code",
   "execution_count": 7,
   "id": "loaded-projection",
   "metadata": {},
   "outputs": [
    {
     "data": {
      "text/plain": [
       "array(['The staff of a Korean War field hospital use humor and high jinks to keep their sanity in the face of the horror of war.',\n",
       "       'Jack Crabb, looking back from extreme old age, tells of his life being raised by Native Americans and fighting with General Custer.',\n",
       "       'A boy and a girl from different backgrounds fall in love regardless of their upbringing - and then tragedy strikes.',\n",
       "       ...,\n",
       "       \"when a couple of kids loss their parents from being murdered, they are turned over to a sweet loving and caring Forster family. the Robinson's never had a choice, however, they had only one...\",\n",
       "       'This film delivers a conscientious perspective of the major policy changes made by President Donald Trump, former EPA Administrator Scott Pruitt and DOE Secretary Rick Perry to the American...',\n",
       "       'During the 2019 European election campaign, Bernard-Henri Levy sets out to save Europe by travelling across the continent with a play written and performed by him. The film follows the ...'],\n",
       "      dtype=object)"
      ]
     },
     "execution_count": 7,
     "metadata": {},
     "output_type": "execute_result"
    }
   ],
   "source": [
    "documents"
   ]
  },
  {
   "cell_type": "code",
   "execution_count": 8,
   "id": "dying-amendment",
   "metadata": {},
   "outputs": [
    {
     "data": {
      "text/plain": [
       "40283"
      ]
     },
     "execution_count": 8,
     "metadata": {},
     "output_type": "execute_result"
    }
   ],
   "source": [
    "len(documents)"
   ]
  },
  {
   "cell_type": "markdown",
   "id": "professional-inspection",
   "metadata": {},
   "source": [
    "#### Import dependencies"
   ]
  },
  {
   "cell_type": "code",
   "execution_count": 24,
   "id": "better-portland",
   "metadata": {},
   "outputs": [],
   "source": [
    "from gensim.models.doc2vec import Doc2Vec, TaggedDocument"
   ]
  },
  {
   "cell_type": "code",
   "execution_count": 10,
   "id": "obvious-success",
   "metadata": {},
   "outputs": [],
   "source": [
    "from gensim.test.utils import get_tmpfile"
   ]
  },
  {
   "cell_type": "code",
   "execution_count": 12,
   "id": "editorial-norfolk",
   "metadata": {},
   "outputs": [],
   "source": [
    "from gensim.parsing.preprocessing import preprocess_documents"
   ]
  },
  {
   "cell_type": "code",
   "execution_count": 18,
   "id": "baking-record",
   "metadata": {},
   "outputs": [],
   "source": [
    "from gensim import corpora"
   ]
  },
  {
   "cell_type": "code",
   "execution_count": 66,
   "id": "consolidated-salad",
   "metadata": {},
   "outputs": [],
   "source": [
    "import gensim.downloader as gdr"
   ]
  },
  {
   "cell_type": "markdown",
   "id": "funny-peninsula",
   "metadata": {},
   "source": [
    "#### Download text model"
   ]
  },
  {
   "cell_type": "code",
   "execution_count": 67,
   "id": "sustained-bible",
   "metadata": {
    "collapsed": true
   },
   "outputs": [
    {
     "name": "stdout",
     "output_type": "stream",
     "text": [
      "[===-----------------------------------------------] 6.2% 23.4/376.1MB downloaded"
     ]
    },
    {
     "name": "stderr",
     "output_type": "stream",
     "text": [
      "IOPub message rate exceeded.\n",
      "The notebook server will temporarily stop sending output\n",
      "to the client in order to avoid crashing it.\n",
      "To change this limit, set the config variable\n",
      "`--NotebookApp.iopub_msg_rate_limit`.\n",
      "\n",
      "Current values:\n",
      "NotebookApp.iopub_msg_rate_limit=1000.0 (msgs/sec)\n",
      "NotebookApp.rate_limit_window=3.0 (secs)\n",
      "\n"
     ]
    },
    {
     "name": "stdout",
     "output_type": "stream",
     "text": [
      "[=========-----------------------------------------] 18.3% 69.0/376.1MB downloaded"
     ]
    },
    {
     "name": "stderr",
     "output_type": "stream",
     "text": [
      "IOPub message rate exceeded.\n",
      "The notebook server will temporarily stop sending output\n",
      "to the client in order to avoid crashing it.\n",
      "To change this limit, set the config variable\n",
      "`--NotebookApp.iopub_msg_rate_limit`.\n",
      "\n",
      "Current values:\n",
      "NotebookApp.iopub_msg_rate_limit=1000.0 (msgs/sec)\n",
      "NotebookApp.rate_limit_window=3.0 (secs)\n",
      "\n"
     ]
    },
    {
     "name": "stdout",
     "output_type": "stream",
     "text": [
      "[=============-------------------------------------] 27.2% 102.1/376.1MB downloaded"
     ]
    },
    {
     "name": "stderr",
     "output_type": "stream",
     "text": [
      "IOPub message rate exceeded.\n",
      "The notebook server will temporarily stop sending output\n",
      "to the client in order to avoid crashing it.\n",
      "To change this limit, set the config variable\n",
      "`--NotebookApp.iopub_msg_rate_limit`.\n",
      "\n",
      "Current values:\n",
      "NotebookApp.iopub_msg_rate_limit=1000.0 (msgs/sec)\n",
      "NotebookApp.rate_limit_window=3.0 (secs)\n",
      "\n"
     ]
    },
    {
     "name": "stdout",
     "output_type": "stream",
     "text": [
      "[===============-----------------------------------] 30.3% 113.8/376.1MB downloaded"
     ]
    },
    {
     "name": "stderr",
     "output_type": "stream",
     "text": [
      "IOPub message rate exceeded.\n",
      "The notebook server will temporarily stop sending output\n",
      "to the client in order to avoid crashing it.\n",
      "To change this limit, set the config variable\n",
      "`--NotebookApp.iopub_msg_rate_limit`.\n",
      "\n",
      "Current values:\n",
      "NotebookApp.iopub_msg_rate_limit=1000.0 (msgs/sec)\n",
      "NotebookApp.rate_limit_window=3.0 (secs)\n",
      "\n"
     ]
    },
    {
     "name": "stdout",
     "output_type": "stream",
     "text": [
      "[====================------------------------------] 41.1% 154.7/376.1MB downloaded"
     ]
    },
    {
     "name": "stderr",
     "output_type": "stream",
     "text": [
      "IOPub message rate exceeded.\n",
      "The notebook server will temporarily stop sending output\n",
      "to the client in order to avoid crashing it.\n",
      "To change this limit, set the config variable\n",
      "`--NotebookApp.iopub_msg_rate_limit`.\n",
      "\n",
      "Current values:\n",
      "NotebookApp.iopub_msg_rate_limit=1000.0 (msgs/sec)\n",
      "NotebookApp.rate_limit_window=3.0 (secs)\n",
      "\n"
     ]
    },
    {
     "name": "stdout",
     "output_type": "stream",
     "text": [
      "[======================----------------------------] 44.4% 167.1/376.1MB downloaded"
     ]
    },
    {
     "name": "stderr",
     "output_type": "stream",
     "text": [
      "IOPub message rate exceeded.\n",
      "The notebook server will temporarily stop sending output\n",
      "to the client in order to avoid crashing it.\n",
      "To change this limit, set the config variable\n",
      "`--NotebookApp.iopub_msg_rate_limit`.\n",
      "\n",
      "Current values:\n",
      "NotebookApp.iopub_msg_rate_limit=1000.0 (msgs/sec)\n",
      "NotebookApp.rate_limit_window=3.0 (secs)\n",
      "\n"
     ]
    },
    {
     "name": "stdout",
     "output_type": "stream",
     "text": [
      "[===========================-----------------------] 55.0% 206.8/376.1MB downloaded"
     ]
    },
    {
     "name": "stderr",
     "output_type": "stream",
     "text": [
      "IOPub message rate exceeded.\n",
      "The notebook server will temporarily stop sending output\n",
      "to the client in order to avoid crashing it.\n",
      "To change this limit, set the config variable\n",
      "`--NotebookApp.iopub_msg_rate_limit`.\n",
      "\n",
      "Current values:\n",
      "NotebookApp.iopub_msg_rate_limit=1000.0 (msgs/sec)\n",
      "NotebookApp.rate_limit_window=3.0 (secs)\n",
      "\n"
     ]
    },
    {
     "name": "stdout",
     "output_type": "stream",
     "text": [
      "[=============================---------------------] 58.0% 218.3/376.1MB downloaded"
     ]
    },
    {
     "name": "stderr",
     "output_type": "stream",
     "text": [
      "IOPub message rate exceeded.\n",
      "The notebook server will temporarily stop sending output\n",
      "to the client in order to avoid crashing it.\n",
      "To change this limit, set the config variable\n",
      "`--NotebookApp.iopub_msg_rate_limit`.\n",
      "\n",
      "Current values:\n",
      "NotebookApp.iopub_msg_rate_limit=1000.0 (msgs/sec)\n",
      "NotebookApp.rate_limit_window=3.0 (secs)\n",
      "\n"
     ]
    },
    {
     "name": "stdout",
     "output_type": "stream",
     "text": [
      "[=================================-----------------] 67.9% 255.4/376.1MB downloaded"
     ]
    },
    {
     "name": "stderr",
     "output_type": "stream",
     "text": [
      "IOPub message rate exceeded.\n",
      "The notebook server will temporarily stop sending output\n",
      "to the client in order to avoid crashing it.\n",
      "To change this limit, set the config variable\n",
      "`--NotebookApp.iopub_msg_rate_limit`.\n",
      "\n",
      "Current values:\n",
      "NotebookApp.iopub_msg_rate_limit=1000.0 (msgs/sec)\n",
      "NotebookApp.rate_limit_window=3.0 (secs)\n",
      "\n"
     ]
    },
    {
     "name": "stdout",
     "output_type": "stream",
     "text": [
      "[===================================---------------] 71.2% 267.7/376.1MB downloaded"
     ]
    },
    {
     "name": "stderr",
     "output_type": "stream",
     "text": [
      "IOPub message rate exceeded.\n",
      "The notebook server will temporarily stop sending output\n",
      "to the client in order to avoid crashing it.\n",
      "To change this limit, set the config variable\n",
      "`--NotebookApp.iopub_msg_rate_limit`.\n",
      "\n",
      "Current values:\n",
      "NotebookApp.iopub_msg_rate_limit=1000.0 (msgs/sec)\n",
      "NotebookApp.rate_limit_window=3.0 (secs)\n",
      "\n"
     ]
    },
    {
     "name": "stdout",
     "output_type": "stream",
     "text": [
      "[========================================----------] 81.7% 307.3/376.1MB downloaded"
     ]
    },
    {
     "name": "stderr",
     "output_type": "stream",
     "text": [
      "IOPub message rate exceeded.\n",
      "The notebook server will temporarily stop sending output\n",
      "to the client in order to avoid crashing it.\n",
      "To change this limit, set the config variable\n",
      "`--NotebookApp.iopub_msg_rate_limit`.\n",
      "\n",
      "Current values:\n",
      "NotebookApp.iopub_msg_rate_limit=1000.0 (msgs/sec)\n",
      "NotebookApp.rate_limit_window=3.0 (secs)\n",
      "\n"
     ]
    },
    {
     "name": "stdout",
     "output_type": "stream",
     "text": [
      "[==========================================--------] 84.2% 316.6/376.1MB downloaded"
     ]
    },
    {
     "name": "stderr",
     "output_type": "stream",
     "text": [
      "IOPub message rate exceeded.\n",
      "The notebook server will temporarily stop sending output\n",
      "to the client in order to avoid crashing it.\n",
      "To change this limit, set the config variable\n",
      "`--NotebookApp.iopub_msg_rate_limit`.\n",
      "\n",
      "Current values:\n",
      "NotebookApp.iopub_msg_rate_limit=1000.0 (msgs/sec)\n",
      "NotebookApp.rate_limit_window=3.0 (secs)\n",
      "\n"
     ]
    },
    {
     "name": "stdout",
     "output_type": "stream",
     "text": [
      "[==============================================----] 92.9% 349.3/376.1MB downloaded"
     ]
    },
    {
     "name": "stderr",
     "output_type": "stream",
     "text": [
      "IOPub message rate exceeded.\n",
      "The notebook server will temporarily stop sending output\n",
      "to the client in order to avoid crashing it.\n",
      "To change this limit, set the config variable\n",
      "`--NotebookApp.iopub_msg_rate_limit`.\n",
      "\n",
      "Current values:\n",
      "NotebookApp.iopub_msg_rate_limit=1000.0 (msgs/sec)\n",
      "NotebookApp.rate_limit_window=3.0 (secs)\n",
      "\n"
     ]
    },
    {
     "name": "stdout",
     "output_type": "stream",
     "text": [
      "[==================================================] 100.0% 376.1/376.1MB downloaded\n"
     ]
    }
   ],
   "source": [
    "glove_model = gdr.load(\"glove-wiki-gigaword-300\")"
   ]
  },
  {
   "cell_type": "markdown",
   "id": "genetic-latvia",
   "metadata": {},
   "source": [
    "#### Preprocess documents"
   ]
  },
  {
   "cell_type": "code",
   "execution_count": 16,
   "id": "missing-canyon",
   "metadata": {},
   "outputs": [],
   "source": [
    "documents = preprocess_documents(documents)"
   ]
  },
  {
   "cell_type": "code",
   "execution_count": 44,
   "id": "metric-toner",
   "metadata": {},
   "outputs": [],
   "source": [
    "tagged_docs = [TaggedDocument(d, [i]) for i, d in enumerate(documents)]"
   ]
  },
  {
   "cell_type": "markdown",
   "id": "ranging-destruction",
   "metadata": {},
   "source": [
    "tmpfile speeds up modelling"
   ]
  },
  {
   "cell_type": "code",
   "execution_count": 46,
   "id": "martial-comfort",
   "metadata": {},
   "outputs": [],
   "source": [
    "filename = get_tmpfile(\"prj607_doc2vec_model\")"
   ]
  },
  {
   "cell_type": "markdown",
   "id": "broken-converter",
   "metadata": {},
   "source": [
    "Initialize model"
   ]
  },
  {
   "cell_type": "code",
   "execution_count": 316,
   "id": "little-diary",
   "metadata": {},
   "outputs": [],
   "source": [
    "model = Doc2Vec(vector_size=10, window=2, min_count=1, workers=4, max_vocab_size=10_000_000)"
   ]
  },
  {
   "cell_type": "markdown",
   "id": "welsh-accountability",
   "metadata": {},
   "source": [
    "Build vocab"
   ]
  },
  {
   "cell_type": "code",
   "execution_count": 317,
   "id": "choice-harvard",
   "metadata": {},
   "outputs": [],
   "source": [
    "model.build_vocab(tagged_docs)"
   ]
  },
  {
   "cell_type": "code",
   "execution_count": 320,
   "id": "opponent-berry",
   "metadata": {},
   "outputs": [],
   "source": [
    "model.save(\"prj607_model3\")"
   ]
  },
  {
   "cell_type": "markdown",
   "id": "european-landscape",
   "metadata": {},
   "source": [
    "Train the model"
   ]
  },
  {
   "cell_type": "code",
   "execution_count": 319,
   "id": "intended-adoption",
   "metadata": {},
   "outputs": [],
   "source": [
    "model.train(tagged_docs, total_examples=model.corpus_count, epochs=50)"
   ]
  },
  {
   "cell_type": "code",
   "execution_count": 56,
   "id": "employed-blind",
   "metadata": {},
   "outputs": [],
   "source": [
    "model.delete_temporary_training_data(keep_doctags_vectors=True, keep_inference=True)"
   ]
  },
  {
   "cell_type": "code",
   "execution_count": 321,
   "id": "fossil-stadium",
   "metadata": {},
   "outputs": [],
   "source": [
    "model.save(\"prj607_model3\")"
   ]
  },
  {
   "cell_type": "markdown",
   "id": "competent-plain",
   "metadata": {},
   "source": [
    "Test model"
   ]
  },
  {
   "cell_type": "code",
   "execution_count": 59,
   "id": "anonymous-airline",
   "metadata": {},
   "outputs": [
    {
     "data": {
      "text/plain": [
       "['staff',\n",
       " 'korean',\n",
       " 'war',\n",
       " 'field',\n",
       " 'hospit',\n",
       " 'us',\n",
       " 'humor',\n",
       " 'high',\n",
       " 'jink',\n",
       " 'saniti',\n",
       " 'face',\n",
       " 'horror',\n",
       " 'war']"
      ]
     },
     "execution_count": 59,
     "metadata": {},
     "output_type": "execute_result"
    }
   ],
   "source": [
    "# bag of words for MASH movie\n",
    "documents[0]"
   ]
  },
  {
   "cell_type": "code",
   "execution_count": 60,
   "id": "entitled-employment",
   "metadata": {},
   "outputs": [
    {
     "data": {
      "text/plain": [
       "array([ 0.38657898,  0.00355222, -0.54087424, -0.36904094, -0.07733429],\n",
       "      dtype=float32)"
      ]
     },
     "execution_count": 60,
     "metadata": {},
     "output_type": "execute_result"
    }
   ],
   "source": [
    "model.infer_vector(documents[0])"
   ]
  },
  {
   "cell_type": "markdown",
   "id": "detected-overview",
   "metadata": {},
   "source": [
    "#### Append description vectors to dataframe"
   ]
  },
  {
   "cell_type": "code",
   "execution_count": 322,
   "id": "starting-blues",
   "metadata": {},
   "outputs": [],
   "source": [
    "data[\"vector\"] = [model.infer_vector(documents[x]) for x in range(len(documents))]"
   ]
  },
  {
   "cell_type": "code",
   "execution_count": 323,
   "id": "ordinary-siemens",
   "metadata": {},
   "outputs": [
    {
     "data": {
      "text/html": [
       "<div>\n",
       "<style scoped>\n",
       "    .dataframe tbody tr th:only-of-type {\n",
       "        vertical-align: middle;\n",
       "    }\n",
       "\n",
       "    .dataframe tbody tr th {\n",
       "        vertical-align: top;\n",
       "    }\n",
       "\n",
       "    .dataframe thead th {\n",
       "        text-align: right;\n",
       "    }\n",
       "</style>\n",
       "<table border=\"1\" class=\"dataframe\">\n",
       "  <thead>\n",
       "    <tr style=\"text-align: right;\">\n",
       "      <th></th>\n",
       "      <th>uids</th>\n",
       "      <th>titles</th>\n",
       "      <th>genres</th>\n",
       "      <th>ratings</th>\n",
       "      <th>scores</th>\n",
       "      <th>votes</th>\n",
       "      <th>lengths</th>\n",
       "      <th>directors</th>\n",
       "      <th>stars</th>\n",
       "      <th>descriptions</th>\n",
       "      <th>year</th>\n",
       "      <th>vector</th>\n",
       "    </tr>\n",
       "  </thead>\n",
       "  <tbody>\n",
       "    <tr>\n",
       "      <th>0</th>\n",
       "      <td>tt0066026</td>\n",
       "      <td>Mash</td>\n",
       "      <td>Comedy, Drama, War</td>\n",
       "      <td>R</td>\n",
       "      <td>7.4</td>\n",
       "      <td>67665</td>\n",
       "      <td>116</td>\n",
       "      <td>Robert Altman</td>\n",
       "      <td>Donald Sutherland, Elliott Gould, Tom Skerritt, Sally Kellerman</td>\n",
       "      <td>The staff of a Korean War field hospital use humor and high jinks to keep their sanity in the face of the horror of war.</td>\n",
       "      <td>1970</td>\n",
       "      <td>[-0.29392213, 0.13917767, -0.4498324, -0.41852877, -0.6748351, 0.29143223, 1.0209568, -0.58891755, 1.2305257, 0.68157166]</td>\n",
       "    </tr>\n",
       "    <tr>\n",
       "      <th>1</th>\n",
       "      <td>tt0065988</td>\n",
       "      <td>Little Big Man</td>\n",
       "      <td>Adventure, Comedy, Drama</td>\n",
       "      <td>PG-13</td>\n",
       "      <td>7.6</td>\n",
       "      <td>32952</td>\n",
       "      <td>139</td>\n",
       "      <td>Arthur Penn</td>\n",
       "      <td>Dustin Hoffman, Faye Dunaway, Chief Dan George, Martin Balsam</td>\n",
       "      <td>Jack Crabb, looking back from extreme old age, tells of his life being raised by Native Americans and fighting with General Custer.</td>\n",
       "      <td>1970</td>\n",
       "      <td>[-0.38926387, -0.96581376, -0.865438, 0.17775574, -0.6099507, -1.6186898, 0.28908485, 1.1162602, 1.1171384, 0.20703052]</td>\n",
       "    </tr>\n",
       "    <tr>\n",
       "      <th>2</th>\n",
       "      <td>tt0066011</td>\n",
       "      <td>Love Story</td>\n",
       "      <td>Drama, Romance</td>\n",
       "      <td>PG</td>\n",
       "      <td>6.9</td>\n",
       "      <td>31300</td>\n",
       "      <td>100</td>\n",
       "      <td>Arthur Hiller</td>\n",
       "      <td>Ali MacGraw, Ryan O'Neal, John Marley, Ray Milland</td>\n",
       "      <td>A boy and a girl from different backgrounds fall in love regardless of their upbringing - and then tragedy strikes.</td>\n",
       "      <td>1970</td>\n",
       "      <td>[-0.34228057, 1.0474117, 1.3132404, 0.6653899, 0.20905404, -1.0576957, 0.035895273, 0.51500386, 1.1029369, -0.07123031]</td>\n",
       "    </tr>\n",
       "    <tr>\n",
       "      <th>3</th>\n",
       "      <td>tt0065134</td>\n",
       "      <td>Two Mules For Sister Sara</td>\n",
       "      <td>Adventure, Romance, War</td>\n",
       "      <td>GP</td>\n",
       "      <td>7.0</td>\n",
       "      <td>24029</td>\n",
       "      <td>116</td>\n",
       "      <td>Don Siegel</td>\n",
       "      <td>Clint Eastwood, Shirley MacLaine, Manolo Fábregas, Alberto Morin</td>\n",
       "      <td>Nun Sara (Shirley MacLaine) is on the run in Mexico and is saved from cowboys by Hogan (Clint Eastwood), who is preparing for a future mission to capture a French fort. The pair become good friends, but Sara never does tell him the true reason behind her being outlawed.</td>\n",
       "      <td>1970</td>\n",
       "      <td>[-1.0599313, 0.16610879, 0.30797988, -0.5170964, 1.7196279, -0.75593215, -0.46819782, 0.9709895, -0.4129715, 0.608778]</td>\n",
       "    </tr>\n",
       "    <tr>\n",
       "      <th>4</th>\n",
       "      <td>tt0065421</td>\n",
       "      <td>The Aristocats</td>\n",
       "      <td>Animation, Adventure, Comedy</td>\n",
       "      <td>G</td>\n",
       "      <td>7.1</td>\n",
       "      <td>94523</td>\n",
       "      <td>78</td>\n",
       "      <td>Wolfgang Reitherman</td>\n",
       "      <td>Phil Harris, Eva Gabor, Sterling Holloway, Scatman Crothers</td>\n",
       "      <td>With the help of a smooth talking tomcat, a family of Parisian felines set to inherit a fortune from their owner try to make it back home after a jealous butler kidnaps them and leaves them in the country.</td>\n",
       "      <td>1970</td>\n",
       "      <td>[-0.52740645, -0.5105268, 0.6503984, 0.10267759, 1.39157, 0.19706672, -1.4190476, 1.0484862, 0.51204234, -0.27587593]</td>\n",
       "    </tr>\n",
       "  </tbody>\n",
       "</table>\n",
       "</div>"
      ],
      "text/plain": [
       "        uids                     titles                        genres ratings  \\\n",
       "0  tt0066026                       Mash            Comedy, Drama, War       R   \n",
       "1  tt0065988             Little Big Man      Adventure, Comedy, Drama   PG-13   \n",
       "2  tt0066011                 Love Story                Drama, Romance      PG   \n",
       "3  tt0065134  Two Mules For Sister Sara       Adventure, Romance, War      GP   \n",
       "4  tt0065421             The Aristocats  Animation, Adventure, Comedy       G   \n",
       "\n",
       "   scores  votes  lengths            directors  \\\n",
       "0     7.4  67665      116        Robert Altman   \n",
       "1     7.6  32952      139          Arthur Penn   \n",
       "2     6.9  31300      100        Arthur Hiller   \n",
       "3     7.0  24029      116           Don Siegel   \n",
       "4     7.1  94523       78  Wolfgang Reitherman   \n",
       "\n",
       "                                                              stars  \\\n",
       "0   Donald Sutherland, Elliott Gould, Tom Skerritt, Sally Kellerman   \n",
       "1     Dustin Hoffman, Faye Dunaway, Chief Dan George, Martin Balsam   \n",
       "2                Ali MacGraw, Ryan O'Neal, John Marley, Ray Milland   \n",
       "3  Clint Eastwood, Shirley MacLaine, Manolo Fábregas, Alberto Morin   \n",
       "4       Phil Harris, Eva Gabor, Sterling Holloway, Scatman Crothers   \n",
       "\n",
       "                                                                                                                                                                                                                                                                     descriptions  \\\n",
       "0                                                                                                                                                        The staff of a Korean War field hospital use humor and high jinks to keep their sanity in the face of the horror of war.   \n",
       "1                                                                                                                                             Jack Crabb, looking back from extreme old age, tells of his life being raised by Native Americans and fighting with General Custer.   \n",
       "2                                                                                                                                                             A boy and a girl from different backgrounds fall in love regardless of their upbringing - and then tragedy strikes.   \n",
       "3  Nun Sara (Shirley MacLaine) is on the run in Mexico and is saved from cowboys by Hogan (Clint Eastwood), who is preparing for a future mission to capture a French fort. The pair become good friends, but Sara never does tell him the true reason behind her being outlawed.   \n",
       "4                                                                   With the help of a smooth talking tomcat, a family of Parisian felines set to inherit a fortune from their owner try to make it back home after a jealous butler kidnaps them and leaves them in the country.   \n",
       "\n",
       "   year  \\\n",
       "0  1970   \n",
       "1  1970   \n",
       "2  1970   \n",
       "3  1970   \n",
       "4  1970   \n",
       "\n",
       "                                                                                                                      vector  \n",
       "0  [-0.29392213, 0.13917767, -0.4498324, -0.41852877, -0.6748351, 0.29143223, 1.0209568, -0.58891755, 1.2305257, 0.68157166]  \n",
       "1    [-0.38926387, -0.96581376, -0.865438, 0.17775574, -0.6099507, -1.6186898, 0.28908485, 1.1162602, 1.1171384, 0.20703052]  \n",
       "2    [-0.34228057, 1.0474117, 1.3132404, 0.6653899, 0.20905404, -1.0576957, 0.035895273, 0.51500386, 1.1029369, -0.07123031]  \n",
       "3     [-1.0599313, 0.16610879, 0.30797988, -0.5170964, 1.7196279, -0.75593215, -0.46819782, 0.9709895, -0.4129715, 0.608778]  \n",
       "4      [-0.52740645, -0.5105268, 0.6503984, 0.10267759, 1.39157, 0.19706672, -1.4190476, 1.0484862, 0.51204234, -0.27587593]  "
      ]
     },
     "execution_count": 323,
     "metadata": {},
     "output_type": "execute_result"
    }
   ],
   "source": [
    "head(data)"
   ]
  },
  {
   "cell_type": "markdown",
   "id": "composed-quality",
   "metadata": {},
   "source": [
    "#### Generate cosine similarity index"
   ]
  },
  {
   "cell_type": "code",
   "execution_count": 73,
   "id": "independent-extent",
   "metadata": {},
   "outputs": [],
   "source": [
    "from gensim.similarities import MatrixSimilarity"
   ]
  },
  {
   "cell_type": "code",
   "execution_count": 125,
   "id": "weighted-museum",
   "metadata": {},
   "outputs": [],
   "source": [
    "from gensim.matutils import softcossim"
   ]
  },
  {
   "cell_type": "code",
   "execution_count": 324,
   "id": "activated-secretariat",
   "metadata": {},
   "outputs": [],
   "source": [
    "vectors = data.vector"
   ]
  },
  {
   "cell_type": "code",
   "execution_count": 325,
   "id": "marine-sierra",
   "metadata": {},
   "outputs": [],
   "source": [
    "cossim = MatrixSimilarity(vectors, num_features=10)"
   ]
  },
  {
   "cell_type": "markdown",
   "id": "pharmaceutical-quarter",
   "metadata": {},
   "source": [
    "## Example Walk-through"
   ]
  },
  {
   "cell_type": "code",
   "execution_count": 284,
   "id": "adopted-union",
   "metadata": {},
   "outputs": [],
   "source": [
    "ts = data.titles.copy()\n",
    "ts = ts.apply(lambda x: x.lower())"
   ]
  },
  {
   "cell_type": "code",
   "execution_count": 286,
   "id": "bibliographic-train",
   "metadata": {},
   "outputs": [],
   "source": [
    "movie_index = pd.Series(data.index, index=ts).drop_duplicates()"
   ]
  },
  {
   "cell_type": "markdown",
   "id": "indie-wagner",
   "metadata": {},
   "source": [
    "Name of movie"
   ]
  },
  {
   "cell_type": "code",
   "execution_count": 326,
   "id": "every-toddler",
   "metadata": {},
   "outputs": [],
   "source": [
    "name = \"The Avengers\""
   ]
  },
  {
   "cell_type": "markdown",
   "id": "exposed-chick",
   "metadata": {},
   "source": [
    "Pull data description"
   ]
  },
  {
   "cell_type": "code",
   "execution_count": 327,
   "id": "analyzed-director",
   "metadata": {},
   "outputs": [
    {
     "data": {
      "text/plain": [
       "10638    [0.06765631, -0.5172013, -0.95188105, -0.093750164, 1.242418, -0.5460874, 0.4369901, 0.19053388, -0.12758712, -0.58768064]\n",
       "25246        [0.2013339, -0.3174906, -1.2622638, 2.3192184, 1.5957869, -1.3597759, -0.20920944, 0.81362617, 0.44345674, 0.63618535]\n",
       "Name: vector, dtype: object"
      ]
     },
     "execution_count": 327,
     "metadata": {},
     "output_type": "execute_result"
    }
   ],
   "source": [
    "tmp = data.loc[data.titles==name, \"vector\"]\n",
    "tmp"
   ]
  },
  {
   "cell_type": "markdown",
   "id": "identical-drove",
   "metadata": {},
   "source": [
    "Reduce duplicates"
   ]
  },
  {
   "cell_type": "code",
   "execution_count": 330,
   "id": "compliant-canvas",
   "metadata": {},
   "outputs": [
    {
     "data": {
      "text/plain": [
       "25246"
      ]
     },
     "execution_count": 330,
     "metadata": {},
     "output_type": "execute_result"
    }
   ],
   "source": [
    "tmp = movie_index[name.lower()]\n",
    "if len(tmp) > 1:\n",
    "    tmp = tmp[len(tmp)-1]\n",
    "    \n",
    "tmp"
   ]
  },
  {
   "cell_type": "markdown",
   "id": "underlying-religion",
   "metadata": {},
   "source": [
    "Get vector representation corresponding to movie at above index"
   ]
  },
  {
   "cell_type": "code",
   "execution_count": 331,
   "id": "skilled-polls",
   "metadata": {},
   "outputs": [
    {
     "data": {
      "text/plain": [
       "array([ 0.2013339 , -0.3174906 , -1.2622638 ,  2.3192184 ,  1.5957869 ,\n",
       "       -1.3597759 , -0.20920944,  0.81362617,  0.44345674,  0.63618535],\n",
       "      dtype=float32)"
      ]
     },
     "execution_count": 331,
     "metadata": {},
     "output_type": "execute_result"
    }
   ],
   "source": [
    "vec = data.iloc[tmp].vector\n",
    "vec"
   ]
  },
  {
   "cell_type": "markdown",
   "id": "rational-meditation",
   "metadata": {},
   "source": [
    "Check cosine similarities"
   ]
  },
  {
   "cell_type": "code",
   "execution_count": 332,
   "id": "annoying-subcommittee",
   "metadata": {},
   "outputs": [
    {
     "data": {
      "text/plain": [
       "array([-0.47286993,  1.2389777 ,  0.58973   , ..., -0.31669813,\n",
       "        0.16474599,  1.4858458 ], dtype=float32)"
      ]
     },
     "execution_count": 332,
     "metadata": {},
     "output_type": "execute_result"
    }
   ],
   "source": [
    "cossim[vec]"
   ]
  },
  {
   "cell_type": "markdown",
   "id": "excess-jonathan",
   "metadata": {},
   "source": [
    "Generate list of cossims"
   ]
  },
  {
   "cell_type": "code",
   "execution_count": 333,
   "id": "broadband-cooking",
   "metadata": {},
   "outputs": [],
   "source": [
    "responsa = sorted(list(enumerate(cossim[vec])), reverse=True, key=lambda x: x[1])"
   ]
  },
  {
   "cell_type": "markdown",
   "id": "signal-desert",
   "metadata": {},
   "source": [
    "Exclude the movie itself from the list"
   ]
  },
  {
   "cell_type": "code",
   "execution_count": 347,
   "id": "secure-controversy",
   "metadata": {},
   "outputs": [],
   "source": [
    "simlist = [entry[0] for entry in responsa if entry[0] != tmp]"
   ]
  },
  {
   "cell_type": "markdown",
   "id": "revised-bobby",
   "metadata": {},
   "source": [
    "Select top 5"
   ]
  },
  {
   "cell_type": "code",
   "execution_count": 348,
   "id": "institutional-classic",
   "metadata": {},
   "outputs": [],
   "source": [
    "idx = simlist[0:5]"
   ]
  },
  {
   "cell_type": "markdown",
   "id": "sharp-taxation",
   "metadata": {},
   "source": [
    "Display original movie query"
   ]
  },
  {
   "cell_type": "code",
   "execution_count": 349,
   "id": "worthy-confirmation",
   "metadata": {},
   "outputs": [
    {
     "data": {
      "text/html": [
       "<div>\n",
       "<style scoped>\n",
       "    .dataframe tbody tr th:only-of-type {\n",
       "        vertical-align: middle;\n",
       "    }\n",
       "\n",
       "    .dataframe tbody tr th {\n",
       "        vertical-align: top;\n",
       "    }\n",
       "\n",
       "    .dataframe thead th {\n",
       "        text-align: right;\n",
       "    }\n",
       "</style>\n",
       "<table border=\"1\" class=\"dataframe\">\n",
       "  <thead>\n",
       "    <tr style=\"text-align: right;\">\n",
       "      <th></th>\n",
       "      <th>uids</th>\n",
       "      <th>titles</th>\n",
       "      <th>genres</th>\n",
       "      <th>ratings</th>\n",
       "      <th>scores</th>\n",
       "      <th>votes</th>\n",
       "      <th>lengths</th>\n",
       "      <th>directors</th>\n",
       "      <th>stars</th>\n",
       "      <th>descriptions</th>\n",
       "      <th>year</th>\n",
       "      <th>vector</th>\n",
       "    </tr>\n",
       "  </thead>\n",
       "  <tbody>\n",
       "    <tr>\n",
       "      <th>25246</th>\n",
       "      <td>tt0848228</td>\n",
       "      <td>The Avengers</td>\n",
       "      <td>Action, Adventure, Sci-Fi</td>\n",
       "      <td>PG-13</td>\n",
       "      <td>8.0</td>\n",
       "      <td>1266025</td>\n",
       "      <td>143</td>\n",
       "      <td>Joss Whedon</td>\n",
       "      <td>Robert Downey Jr., Chris Evans, Scarlett Johansson, Jeremy Renner</td>\n",
       "      <td>Earth's mightiest heroes must come together and learn to fight as a team if they are going to stop the mischievous Loki and his alien army from enslaving humanity.</td>\n",
       "      <td>2012</td>\n",
       "      <td>[0.2013339, -0.3174906, -1.2622638, 2.3192184, 1.5957869, -1.3597759, -0.20920944, 0.81362617, 0.44345674, 0.63618535]</td>\n",
       "    </tr>\n",
       "  </tbody>\n",
       "</table>\n",
       "</div>"
      ],
      "text/plain": [
       "            uids        titles                     genres ratings  scores  \\\n",
       "25246  tt0848228  The Avengers  Action, Adventure, Sci-Fi   PG-13     8.0   \n",
       "\n",
       "         votes  lengths    directors  \\\n",
       "25246  1266025      143  Joss Whedon   \n",
       "\n",
       "                                                                   stars  \\\n",
       "25246  Robert Downey Jr., Chris Evans, Scarlett Johansson, Jeremy Renner   \n",
       "\n",
       "                                                                                                                                                              descriptions  \\\n",
       "25246  Earth's mightiest heroes must come together and learn to fight as a team if they are going to stop the mischievous Loki and his alien army from enslaving humanity.   \n",
       "\n",
       "       year  \\\n",
       "25246  2012   \n",
       "\n",
       "                                                                                                                       vector  \n",
       "25246  [0.2013339, -0.3174906, -1.2622638, 2.3192184, 1.5957869, -1.3597759, -0.20920944, 0.81362617, 0.44345674, 0.63618535]  "
      ]
     },
     "execution_count": 349,
     "metadata": {},
     "output_type": "execute_result"
    }
   ],
   "source": [
    "data.loc[tmp:tmp]"
   ]
  },
  {
   "cell_type": "markdown",
   "id": "starting-roman",
   "metadata": {},
   "source": [
    "Display Results"
   ]
  },
  {
   "cell_type": "code",
   "execution_count": 350,
   "id": "accepted-batman",
   "metadata": {},
   "outputs": [
    {
     "data": {
      "text/html": [
       "<div>\n",
       "<style scoped>\n",
       "    .dataframe tbody tr th:only-of-type {\n",
       "        vertical-align: middle;\n",
       "    }\n",
       "\n",
       "    .dataframe tbody tr th {\n",
       "        vertical-align: top;\n",
       "    }\n",
       "\n",
       "    .dataframe thead th {\n",
       "        text-align: right;\n",
       "    }\n",
       "</style>\n",
       "<table border=\"1\" class=\"dataframe\">\n",
       "  <thead>\n",
       "    <tr style=\"text-align: right;\">\n",
       "      <th></th>\n",
       "      <th>uids</th>\n",
       "      <th>titles</th>\n",
       "      <th>genres</th>\n",
       "      <th>ratings</th>\n",
       "      <th>scores</th>\n",
       "      <th>votes</th>\n",
       "      <th>lengths</th>\n",
       "      <th>directors</th>\n",
       "      <th>stars</th>\n",
       "      <th>descriptions</th>\n",
       "      <th>year</th>\n",
       "      <th>vector</th>\n",
       "    </tr>\n",
       "  </thead>\n",
       "  <tbody>\n",
       "    <tr>\n",
       "      <th>28944</th>\n",
       "      <td>tt2006753</td>\n",
       "      <td>Heavenly Sword</td>\n",
       "      <td>Animation, Action, Adventure</td>\n",
       "      <td>Not Rated</td>\n",
       "      <td>5.3</td>\n",
       "      <td>1869</td>\n",
       "      <td>85</td>\n",
       "      <td>Gun Ho Jang</td>\n",
       "      <td>Anna Torv, Alfred Molina, Thomas Jane, Ashleigh Ball</td>\n",
       "      <td>A power-hungry ruler known as King Bohan seeks to obtain the long-protected \"Heavenly Sword\" in order to use its devastating power for evil. Why doesn't anyone ever use immensely powerful swords for good anymore?</td>\n",
       "      <td>2014</td>\n",
       "      <td>[0.69750845, -1.1573373, -1.389731, 2.8651183, 1.7791392, -2.232263, -0.39313757, 0.8069969, 0.3563298, 0.060778655]</td>\n",
       "    </tr>\n",
       "    <tr>\n",
       "      <th>3181</th>\n",
       "      <td>tt0084674</td>\n",
       "      <td>Ninja Bugeicho Momochi Sandayu</td>\n",
       "      <td>Action, Adventure, Drama</td>\n",
       "      <td>R</td>\n",
       "      <td>6.3</td>\n",
       "      <td>653</td>\n",
       "      <td>117</td>\n",
       "      <td>Norifumi Suzuki</td>\n",
       "      <td>Shin'ichi Chiba, Hiroyuki Sanada, Etsuko Shihomi, Yuki Ninagawa</td>\n",
       "      <td>In the middle of the 16th century, Hideyoshi, a power hungry warlord sets out to destroy the Momochi clan. He sends his war commander in search of the clan's hidden gold only to find that ...</td>\n",
       "      <td>1980</td>\n",
       "      <td>[-1.284648, -0.42307413, -1.4041648, 2.3239527, 1.4073913, -1.7962946, 0.4492707, 0.8012186, 0.3076346, -0.085028276]</td>\n",
       "    </tr>\n",
       "    <tr>\n",
       "      <th>33598</th>\n",
       "      <td>tt5555554</td>\n",
       "      <td>Viking Legacy</td>\n",
       "      <td>Action, Adventure</td>\n",
       "      <td>None</td>\n",
       "      <td>2.3</td>\n",
       "      <td>536</td>\n",
       "      <td>83</td>\n",
       "      <td>Tom Barker</td>\n",
       "      <td>Hollie Burrows, James William Cooke, Liam Dascombe, Daren Elliott Holmes</td>\n",
       "      <td>In ancient times, there were seven sacred scrolls believed to grant power and prosperity to those who possessed them. Prophecy told that a child born in pure Royal blood would one day ...</td>\n",
       "      <td>2016</td>\n",
       "      <td>[0.014128065, 0.761407, -1.0480585, 2.255792, 1.6180824, -3.166287, 0.015109024, -0.17075957, -0.04287306, -1.2587872]</td>\n",
       "    </tr>\n",
       "    <tr>\n",
       "      <th>39488</th>\n",
       "      <td>tt9624766</td>\n",
       "      <td>Jiu Jitsu</td>\n",
       "      <td>Action, Comedy, Fantasy</td>\n",
       "      <td>R</td>\n",
       "      <td>2.9</td>\n",
       "      <td>4465</td>\n",
       "      <td>102</td>\n",
       "      <td>Dimitri Logothetis</td>\n",
       "      <td>Alain Moussi, Nicolas Cage, Raymond Pinharry, Mary Makariou</td>\n",
       "      <td>Every six years, an ancient order of jiu-jitsu fighters joins forces to battle a vicious race of alien invaders. But when a celebrated war hero goes down in defeat, the fate of the planet and mankind hangs in the balance.</td>\n",
       "      <td>2020</td>\n",
       "      <td>[0.05224846, -0.33675718, -1.5534635, 2.0956678, 1.4242059, -1.8086963, 0.60181695, -0.17289953, 0.55631775, 0.80582875]</td>\n",
       "    </tr>\n",
       "    <tr>\n",
       "      <th>215</th>\n",
       "      <td>tt0065755</td>\n",
       "      <td>Gamera Vs. Jiger</td>\n",
       "      <td>Action, Adventure, Family</td>\n",
       "      <td>Not Rated</td>\n",
       "      <td>5.5</td>\n",
       "      <td>1036</td>\n",
       "      <td>83</td>\n",
       "      <td>Noriaki Yuasa</td>\n",
       "      <td>Tsutomu Takakuwa, Kelly Varis, Katherine Murphy, Kon Ômura</td>\n",
       "      <td>When an ancient statue is moved for display in Expo '70, a giant, vaguely Triceratops-like monster is released. The monster goes to Japan in pursuit of the statue and ends up battling Gamera, the giant flying turtle.</td>\n",
       "      <td>1970</td>\n",
       "      <td>[0.74109024, 0.48825604, -1.8066602, 2.0789828, 1.9616024, -1.355684, 0.420552, 0.73001325, 0.15906255, -1.1268327]</td>\n",
       "    </tr>\n",
       "  </tbody>\n",
       "</table>\n",
       "</div>"
      ],
      "text/plain": [
       "            uids                          titles  \\\n",
       "28944  tt2006753                  Heavenly Sword   \n",
       "3181   tt0084674  Ninja Bugeicho Momochi Sandayu   \n",
       "33598  tt5555554                   Viking Legacy   \n",
       "39488  tt9624766                       Jiu Jitsu   \n",
       "215    tt0065755                Gamera Vs. Jiger   \n",
       "\n",
       "                             genres    ratings  scores  votes  lengths  \\\n",
       "28944  Animation, Action, Adventure  Not Rated     5.3   1869       85   \n",
       "3181       Action, Adventure, Drama          R     6.3    653      117   \n",
       "33598             Action, Adventure       None     2.3    536       83   \n",
       "39488       Action, Comedy, Fantasy          R     2.9   4465      102   \n",
       "215       Action, Adventure, Family  Not Rated     5.5   1036       83   \n",
       "\n",
       "                directors  \\\n",
       "28944         Gun Ho Jang   \n",
       "3181      Norifumi Suzuki   \n",
       "33598          Tom Barker   \n",
       "39488  Dimitri Logothetis   \n",
       "215         Noriaki Yuasa   \n",
       "\n",
       "                                                                          stars  \\\n",
       "28944                      Anna Torv, Alfred Molina, Thomas Jane, Ashleigh Ball   \n",
       "3181            Shin'ichi Chiba, Hiroyuki Sanada, Etsuko Shihomi, Yuki Ninagawa   \n",
       "33598  Hollie Burrows, James William Cooke, Liam Dascombe, Daren Elliott Holmes   \n",
       "39488               Alain Moussi, Nicolas Cage, Raymond Pinharry, Mary Makariou   \n",
       "215                  Tsutomu Takakuwa, Kelly Varis, Katherine Murphy, Kon Ômura   \n",
       "\n",
       "                                                                                                                                                                                                                        descriptions  \\\n",
       "28944           A power-hungry ruler known as King Bohan seeks to obtain the long-protected \"Heavenly Sword\" in order to use its devastating power for evil. Why doesn't anyone ever use immensely powerful swords for good anymore?   \n",
       "3181                                 In the middle of the 16th century, Hideyoshi, a power hungry warlord sets out to destroy the Momochi clan. He sends his war commander in search of the clan's hidden gold only to find that ...   \n",
       "33598                                    In ancient times, there were seven sacred scrolls believed to grant power and prosperity to those who possessed them. Prophecy told that a child born in pure Royal blood would one day ...   \n",
       "39488  Every six years, an ancient order of jiu-jitsu fighters joins forces to battle a vicious race of alien invaders. But when a celebrated war hero goes down in defeat, the fate of the planet and mankind hangs in the balance.   \n",
       "215         When an ancient statue is moved for display in Expo '70, a giant, vaguely Triceratops-like monster is released. The monster goes to Japan in pursuit of the statue and ends up battling Gamera, the giant flying turtle.   \n",
       "\n",
       "       year  \\\n",
       "28944  2014   \n",
       "3181   1980   \n",
       "33598  2016   \n",
       "39488  2020   \n",
       "215    1970   \n",
       "\n",
       "                                                                                                                         vector  \n",
       "28944      [0.69750845, -1.1573373, -1.389731, 2.8651183, 1.7791392, -2.232263, -0.39313757, 0.8069969, 0.3563298, 0.060778655]  \n",
       "3181      [-1.284648, -0.42307413, -1.4041648, 2.3239527, 1.4073913, -1.7962946, 0.4492707, 0.8012186, 0.3076346, -0.085028276]  \n",
       "33598    [0.014128065, 0.761407, -1.0480585, 2.255792, 1.6180824, -3.166287, 0.015109024, -0.17075957, -0.04287306, -1.2587872]  \n",
       "39488  [0.05224846, -0.33675718, -1.5534635, 2.0956678, 1.4242059, -1.8086963, 0.60181695, -0.17289953, 0.55631775, 0.80582875]  \n",
       "215         [0.74109024, 0.48825604, -1.8066602, 2.0789828, 1.9616024, -1.355684, 0.420552, 0.73001325, 0.15906255, -1.1268327]  "
      ]
     },
     "execution_count": 350,
     "metadata": {},
     "output_type": "execute_result"
    }
   ],
   "source": [
    "data.iloc[idx]"
   ]
  },
  {
   "cell_type": "code",
   "execution_count": 199,
   "id": "sudden-sally",
   "metadata": {},
   "outputs": [
    {
     "data": {
      "text/plain": [
       "gensim.similarities.docsim.MatrixSimilarity"
      ]
     },
     "execution_count": 199,
     "metadata": {},
     "output_type": "execute_result"
    }
   ],
   "source": [
    "type(cossim)"
   ]
  },
  {
   "cell_type": "markdown",
   "id": "later-leather",
   "metadata": {},
   "source": [
    "Save cossim matrix"
   ]
  },
  {
   "cell_type": "code",
   "execution_count": 375,
   "id": "union-aquatic",
   "metadata": {},
   "outputs": [],
   "source": [
    "cossim.save(\"gensim_cossim_v2\")"
   ]
  },
  {
   "cell_type": "markdown",
   "id": "sharing-judgment",
   "metadata": {},
   "source": [
    "## Test both models"
   ]
  },
  {
   "cell_type": "code",
   "execution_count": 385,
   "id": "oriented-springfield",
   "metadata": {},
   "outputs": [],
   "source": [
    "movie = \"Ghost\""
   ]
  },
  {
   "cell_type": "code",
   "execution_count": 386,
   "id": "subtle-width",
   "metadata": {},
   "outputs": [
    {
     "name": "stdout",
     "output_type": "stream",
     "text": [
      "Ghost is a duplicate.\n"
     ]
    },
    {
     "data": {
      "text/html": [
       "<div>\n",
       "<style scoped>\n",
       "    .dataframe tbody tr th:only-of-type {\n",
       "        vertical-align: middle;\n",
       "    }\n",
       "\n",
       "    .dataframe tbody tr th {\n",
       "        vertical-align: top;\n",
       "    }\n",
       "\n",
       "    .dataframe thead th {\n",
       "        text-align: right;\n",
       "    }\n",
       "</style>\n",
       "<table border=\"1\" class=\"dataframe\">\n",
       "  <thead>\n",
       "    <tr style=\"text-align: right;\">\n",
       "      <th></th>\n",
       "      <th>Rank</th>\n",
       "      <th>Film</th>\n",
       "      <th>Year</th>\n",
       "      <th>Genre</th>\n",
       "      <th>Rating</th>\n",
       "      <th>Runtime</th>\n",
       "      <th>Director</th>\n",
       "      <th>Also starring</th>\n",
       "      <th>Description</th>\n",
       "      <th>Score</th>\n",
       "    </tr>\n",
       "  </thead>\n",
       "  <tbody>\n",
       "    <tr>\n",
       "      <th>0</th>\n",
       "      <td>1</td>\n",
       "      <td>A United Kingdom</td>\n",
       "      <td>2016</td>\n",
       "      <td>Biography, Drama, History</td>\n",
       "      <td>PG-13</td>\n",
       "      <td>111</td>\n",
       "      <td>Amma Asante</td>\n",
       "      <td>David Oyelowo, Rosamund Pike, Tom Felton, Jack Davenport</td>\n",
       "      <td>The story of King Seretse Khama of Botswana and how his loving but controversial marriage to a British white woman, Ruth Williams, put his kingdom into political and diplomatic turmoil.</td>\n",
       "      <td>6.844341</td>\n",
       "    </tr>\n",
       "    <tr>\n",
       "      <th>1</th>\n",
       "      <td>2</td>\n",
       "      <td>Twins Of Evil</td>\n",
       "      <td>1971</td>\n",
       "      <td>Horror</td>\n",
       "      <td>R</td>\n",
       "      <td>87</td>\n",
       "      <td>John Hough</td>\n",
       "      <td>Peter Cushing, Dennis Price, Mary Collinson, Madeleine Collinson</td>\n",
       "      <td>A religious sect led by Gustav Weil hunts all women suspected of witchcraft, killing a number of innocent victims. Young Katy, Gustav's niece, will involve herself in a devilish cult, and become an instrument of Justice in the region.</td>\n",
       "      <td>6.502685</td>\n",
       "    </tr>\n",
       "    <tr>\n",
       "      <th>2</th>\n",
       "      <td>3</td>\n",
       "      <td>Kara Murat: Kara Sövalyeye Karsi</td>\n",
       "      <td>1975</td>\n",
       "      <td>Action</td>\n",
       "      <td>None</td>\n",
       "      <td>67</td>\n",
       "      <td>Natuk Baytan</td>\n",
       "      <td>Cüneyt Arkin, Burçin Dogu, Mualla Omay, Reha Yurdakul</td>\n",
       "      <td>Byzantine Prince kills Kara Murat's father and kidnaps his brother to raise him as the Black Knight to fight against Turks. Years later, Kara Murat has to face the notorious enemy in a mission to save abducted Karaca Pasha of Rumelia.</td>\n",
       "      <td>6.019201</td>\n",
       "    </tr>\n",
       "    <tr>\n",
       "      <th>3</th>\n",
       "      <td>4</td>\n",
       "      <td>23Rd March 1931: Shaheed</td>\n",
       "      <td>2002</td>\n",
       "      <td>Biography, Drama, History</td>\n",
       "      <td>None</td>\n",
       "      <td>188</td>\n",
       "      <td>Guddu Dhanoa</td>\n",
       "      <td>Bobby Deol, Sunny Deol, Amrita Singh, Rahul Dev</td>\n",
       "      <td>When his mentor Lala Lajpat Rai is beaten to death by the Britishers, Bhagat Singh sets out to avenge his death. Upon killing the responsible British official, Bhagat Singh is sentenced to death for his actions.</td>\n",
       "      <td>5.674006</td>\n",
       "    </tr>\n",
       "    <tr>\n",
       "      <th>4</th>\n",
       "      <td>5</td>\n",
       "      <td>League Of Gods</td>\n",
       "      <td>2016</td>\n",
       "      <td>Action, Fantasy</td>\n",
       "      <td>PG-13</td>\n",
       "      <td>109</td>\n",
       "      <td>Koan Hui</td>\n",
       "      <td>Jet Li, Bingbing Fan, Zhang Wen, Xiaoming Huang</td>\n",
       "      <td>Based on the 16th-century Chinese novel Feng Shen Yan Yi (The Investiture of the Gods), the story tells of how King Zhou of Shang becomes a tyrant due to the wiles of Daji, a vixen spirit who is disguised as one of his concubines.</td>\n",
       "      <td>5.031207</td>\n",
       "    </tr>\n",
       "  </tbody>\n",
       "</table>\n",
       "</div>"
      ],
      "text/plain": [
       "   Rank                              Film  Year                      Genre  \\\n",
       "0     1                  A United Kingdom  2016  Biography, Drama, History   \n",
       "1     2                     Twins Of Evil  1971                     Horror   \n",
       "2     3  Kara Murat: Kara Sövalyeye Karsi  1975                     Action   \n",
       "3     4          23Rd March 1931: Shaheed  2002  Biography, Drama, History   \n",
       "4     5                    League Of Gods  2016            Action, Fantasy   \n",
       "\n",
       "  Rating  Runtime      Director  \\\n",
       "0  PG-13      111   Amma Asante   \n",
       "1      R       87    John Hough   \n",
       "2   None       67  Natuk Baytan   \n",
       "3   None      188  Guddu Dhanoa   \n",
       "4  PG-13      109      Koan Hui   \n",
       "\n",
       "                                                      Also starring  \\\n",
       "0          David Oyelowo, Rosamund Pike, Tom Felton, Jack Davenport   \n",
       "1  Peter Cushing, Dennis Price, Mary Collinson, Madeleine Collinson   \n",
       "2             Cüneyt Arkin, Burçin Dogu, Mualla Omay, Reha Yurdakul   \n",
       "3                   Bobby Deol, Sunny Deol, Amrita Singh, Rahul Dev   \n",
       "4                   Jet Li, Bingbing Fan, Zhang Wen, Xiaoming Huang   \n",
       "\n",
       "                                                                                                                                                                                                                                  Description  \\\n",
       "0                                                   The story of King Seretse Khama of Botswana and how his loving but controversial marriage to a British white woman, Ruth Williams, put his kingdom into political and diplomatic turmoil.   \n",
       "1  A religious sect led by Gustav Weil hunts all women suspected of witchcraft, killing a number of innocent victims. Young Katy, Gustav's niece, will involve herself in a devilish cult, and become an instrument of Justice in the region.   \n",
       "2  Byzantine Prince kills Kara Murat's father and kidnaps his brother to raise him as the Black Knight to fight against Turks. Years later, Kara Murat has to face the notorious enemy in a mission to save abducted Karaca Pasha of Rumelia.   \n",
       "3                         When his mentor Lala Lajpat Rai is beaten to death by the Britishers, Bhagat Singh sets out to avenge his death. Upon killing the responsible British official, Bhagat Singh is sentenced to death for his actions.   \n",
       "4      Based on the 16th-century Chinese novel Feng Shen Yan Yi (The Investiture of the Gods), the story tells of how King Zhou of Shang becomes a tyrant due to the wiles of Daji, a vixen spirit who is disguised as one of his concubines.   \n",
       "\n",
       "      Score  \n",
       "0  6.844341  \n",
       "1  6.502685  \n",
       "2  6.019201  \n",
       "3  5.674006  \n",
       "4  5.031207  "
      ]
     },
     "execution_count": 386,
     "metadata": {},
     "output_type": "execute_result"
    }
   ],
   "source": [
    "recommend_byTitle(movie, cossim=cossim)"
   ]
  },
  {
   "cell_type": "markdown",
   "id": "norwegian-fiber",
   "metadata": {},
   "source": [
    "Generate cosine similarity matrix using TFIDF and cross-check responses"
   ]
  },
  {
   "cell_type": "code",
   "execution_count": 358,
   "id": "approved-chapel",
   "metadata": {},
   "outputs": [],
   "source": [
    "cossim2, _, _ = setup(data, True)"
   ]
  },
  {
   "cell_type": "code",
   "execution_count": 371,
   "id": "challenging-jewelry",
   "metadata": {},
   "outputs": [
    {
     "name": "stdout",
     "output_type": "stream",
     "text": [
      "The Avengers is a duplicate.\n"
     ]
    },
    {
     "data": {
      "text/html": [
       "<div>\n",
       "<style scoped>\n",
       "    .dataframe tbody tr th:only-of-type {\n",
       "        vertical-align: middle;\n",
       "    }\n",
       "\n",
       "    .dataframe tbody tr th {\n",
       "        vertical-align: top;\n",
       "    }\n",
       "\n",
       "    .dataframe thead th {\n",
       "        text-align: right;\n",
       "    }\n",
       "</style>\n",
       "<table border=\"1\" class=\"dataframe\">\n",
       "  <thead>\n",
       "    <tr style=\"text-align: right;\">\n",
       "      <th></th>\n",
       "      <th>Rank</th>\n",
       "      <th>Film</th>\n",
       "      <th>Year</th>\n",
       "      <th>Genre</th>\n",
       "      <th>Rating</th>\n",
       "      <th>Runtime</th>\n",
       "      <th>Director</th>\n",
       "      <th>Also starring</th>\n",
       "      <th>Description</th>\n",
       "      <th>Score</th>\n",
       "    </tr>\n",
       "  </thead>\n",
       "  <tbody>\n",
       "    <tr>\n",
       "      <th>0</th>\n",
       "      <td>1</td>\n",
       "      <td>Avengers: Age Of Ultron</td>\n",
       "      <td>2015</td>\n",
       "      <td>Action, Adventure, Sci-Fi</td>\n",
       "      <td>PG-13</td>\n",
       "      <td>141</td>\n",
       "      <td>Joss Whedon</td>\n",
       "      <td>Robert Downey Jr., Chris Evans, Mark Ruffalo, Chris Hemsworth</td>\n",
       "      <td>When Tony Stark and Bruce Banner try to jump-start a dormant peacekeeping program called Ultron, things go horribly wrong and it's up to Earth's mightiest heroes to stop the villainous Ultron from enacting his terrible plan.</td>\n",
       "      <td>7.298481</td>\n",
       "    </tr>\n",
       "    <tr>\n",
       "      <th>1</th>\n",
       "      <td>2</td>\n",
       "      <td>Hellboy Ii: The Golden Army</td>\n",
       "      <td>2008</td>\n",
       "      <td>Action, Adventure, Fantasy</td>\n",
       "      <td>PG-13</td>\n",
       "      <td>120</td>\n",
       "      <td>Guillermo del Toro</td>\n",
       "      <td>Ron Perlman, Selma Blair, Doug Jones, John Alexander</td>\n",
       "      <td>A prince of the mythical world starts a rebellion against humanity in order to rule the Earth, and Hellboy his team must fight to stop him from locating the all-powerful Golden Army.</td>\n",
       "      <td>6.996735</td>\n",
       "    </tr>\n",
       "    <tr>\n",
       "      <th>2</th>\n",
       "      <td>3</td>\n",
       "      <td>Titan A.E.</td>\n",
       "      <td>2000</td>\n",
       "      <td>Animation, Action, Adventure</td>\n",
       "      <td>PG</td>\n",
       "      <td>94</td>\n",
       "      <td>Don Bluth</td>\n",
       "      <td>Matt Damon, Drew Barrymore, Bill Pullman, Jim Breuer</td>\n",
       "      <td>A young man learns that he has to find a hidden Earth ship before an enemy alien species does in order to secure the survival of humanity.</td>\n",
       "      <td>6.592638</td>\n",
       "    </tr>\n",
       "    <tr>\n",
       "      <th>3</th>\n",
       "      <td>4</td>\n",
       "      <td>Lost In Space</td>\n",
       "      <td>1998</td>\n",
       "      <td>Action, Adventure, Family</td>\n",
       "      <td>PG-13</td>\n",
       "      <td>130</td>\n",
       "      <td>Stephen Hopkins</td>\n",
       "      <td>Gary Oldman, William Hurt, Matt LeBlanc, Mimi Rogers</td>\n",
       "      <td>The Robinson family was going into space to fight for a chance for humanity. Now they are fighting to live long enough to find a way home.</td>\n",
       "      <td>5.213613</td>\n",
       "    </tr>\n",
       "    <tr>\n",
       "      <th>4</th>\n",
       "      <td>5</td>\n",
       "      <td>Skylines</td>\n",
       "      <td>2020</td>\n",
       "      <td>Action, Adventure, Sci-Fi</td>\n",
       "      <td>R</td>\n",
       "      <td>113</td>\n",
       "      <td>Liam O'Donnell</td>\n",
       "      <td>Lindsey Morgan, Jonathan Howard, Daniel Bernhardt, Rhona Mitra</td>\n",
       "      <td>When a virus threatens to turn the now earth-dwelling friendly alien hybrids against humans, Captain Rose Corley must lead a team of elite mercenaries on a mission to the alien world in order to save what's left of humanity.</td>\n",
       "      <td>5.044015</td>\n",
       "    </tr>\n",
       "  </tbody>\n",
       "</table>\n",
       "</div>"
      ],
      "text/plain": [
       "   Rank                         Film  Year                         Genre  \\\n",
       "0     1      Avengers: Age Of Ultron  2015     Action, Adventure, Sci-Fi   \n",
       "1     2  Hellboy Ii: The Golden Army  2008    Action, Adventure, Fantasy   \n",
       "2     3                   Titan A.E.  2000  Animation, Action, Adventure   \n",
       "3     4                Lost In Space  1998     Action, Adventure, Family   \n",
       "4     5                     Skylines  2020     Action, Adventure, Sci-Fi   \n",
       "\n",
       "  Rating  Runtime            Director  \\\n",
       "0  PG-13      141         Joss Whedon   \n",
       "1  PG-13      120  Guillermo del Toro   \n",
       "2     PG       94           Don Bluth   \n",
       "3  PG-13      130     Stephen Hopkins   \n",
       "4      R      113      Liam O'Donnell   \n",
       "\n",
       "                                                    Also starring  \\\n",
       "0   Robert Downey Jr., Chris Evans, Mark Ruffalo, Chris Hemsworth   \n",
       "1            Ron Perlman, Selma Blair, Doug Jones, John Alexander   \n",
       "2            Matt Damon, Drew Barrymore, Bill Pullman, Jim Breuer   \n",
       "3            Gary Oldman, William Hurt, Matt LeBlanc, Mimi Rogers   \n",
       "4  Lindsey Morgan, Jonathan Howard, Daniel Bernhardt, Rhona Mitra   \n",
       "\n",
       "                                                                                                                                                                                                                        Description  \\\n",
       "0  When Tony Stark and Bruce Banner try to jump-start a dormant peacekeeping program called Ultron, things go horribly wrong and it's up to Earth's mightiest heroes to stop the villainous Ultron from enacting his terrible plan.   \n",
       "1                                            A prince of the mythical world starts a rebellion against humanity in order to rule the Earth, and Hellboy his team must fight to stop him from locating the all-powerful Golden Army.   \n",
       "2                                                                                        A young man learns that he has to find a hidden Earth ship before an enemy alien species does in order to secure the survival of humanity.   \n",
       "3                                                                                        The Robinson family was going into space to fight for a chance for humanity. Now they are fighting to live long enough to find a way home.   \n",
       "4  When a virus threatens to turn the now earth-dwelling friendly alien hybrids against humans, Captain Rose Corley must lead a team of elite mercenaries on a mission to the alien world in order to save what's left of humanity.   \n",
       "\n",
       "      Score  \n",
       "0  7.298481  \n",
       "1  6.996735  \n",
       "2  6.592638  \n",
       "3  5.213613  \n",
       "4  5.044015  "
      ]
     },
     "execution_count": 371,
     "metadata": {},
     "output_type": "execute_result"
    }
   ],
   "source": [
    "recommend_byTitle(\"The Avengers\", cossim=cossim2, tfidf=True)"
   ]
  },
  {
   "cell_type": "markdown",
   "id": "behind-madness",
   "metadata": {},
   "source": [
    "## Follow up"
   ]
  },
  {
   "cell_type": "code",
   "execution_count": 377,
   "id": "young-advertiser",
   "metadata": {},
   "outputs": [],
   "source": [
    "from sklearn.feature_extraction.text import TfidfVectorizer\n",
    "from sklearn.metrics.pairwise import linear_kernel"
   ]
  },
  {
   "cell_type": "code",
   "execution_count": 379,
   "id": "dress-paper",
   "metadata": {},
   "outputs": [],
   "source": [
    "tfidf_vectorizer = TfidfVectorizer(stop_words=\"english\")\n",
    "TFIDFvectors = tfidf_vectorizer.fit_transform(data.descriptions)"
   ]
  },
  {
   "cell_type": "code",
   "execution_count": 437,
   "id": "linear-listing",
   "metadata": {},
   "outputs": [],
   "source": [
    "df1, cossim,  = setup(data, vec_size=20)\n",
    "data"
   ]
  },
  {
   "cell_type": "code",
   "execution_count": 446,
   "id": "pacific-bahamas",
   "metadata": {},
   "outputs": [],
   "source": [
    "cossim3 = cossim3[0]"
   ]
  },
  {
   "cell_type": "code",
   "execution_count": 447,
   "id": "pleased-republican",
   "metadata": {},
   "outputs": [
    {
     "name": "stdout",
     "output_type": "stream",
     "text": [
      "TFIDFvectors: 14,418,091,472 bytes\n",
      "Doc2Vec cossim: 1,611,432 bytes\n",
      "D2V cossim3: 3,222,752 bytes\n"
     ]
    }
   ],
   "source": [
    "print(f\"TFIDFvectors: {sys.getsizeof(TFIDFvectors.A):,} bytes\")\n",
    "print(f\"Doc2Vec cossim: {sys.getsizeof(cossim.index):,} bytes\")\n",
    "print(f\"D2V cossim3: {sys.getsizeof(cossim3.index):,} bytes\")"
   ]
  },
  {
   "cell_type": "code",
   "execution_count": 451,
   "id": "beneficial-preview",
   "metadata": {},
   "outputs": [
    {
     "data": {
      "text/plain": [
       "array([-0.292917  ,  0.1635281 , -0.2560219 , -0.6561126 , -0.22164677,\n",
       "       -1.4185691 ,  1.2946107 , -0.6431612 ,  1.1563476 ,  0.9450597 ,\n",
       "       -0.8473621 , -0.32703558,  0.07530466,  0.4424003 , -0.33460173,\n",
       "        1.1973267 ,  0.34389544,  0.64210933, -0.20641506,  0.7083357 ],\n",
       "      dtype=float32)"
      ]
     },
     "execution_count": 451,
     "metadata": {},
     "output_type": "execute_result"
    }
   ],
   "source": []
  },
  {
   "cell_type": "code",
   "execution_count": 448,
   "id": "literary-danish",
   "metadata": {},
   "outputs": [
    {
     "name": "stdout",
     "output_type": "stream",
     "text": [
      "The Avengers is a duplicate.\n"
     ]
    },
    {
     "data": {
      "text/html": [
       "<div>\n",
       "<style scoped>\n",
       "    .dataframe tbody tr th:only-of-type {\n",
       "        vertical-align: middle;\n",
       "    }\n",
       "\n",
       "    .dataframe tbody tr th {\n",
       "        vertical-align: top;\n",
       "    }\n",
       "\n",
       "    .dataframe thead th {\n",
       "        text-align: right;\n",
       "    }\n",
       "</style>\n",
       "<table border=\"1\" class=\"dataframe\">\n",
       "  <thead>\n",
       "    <tr style=\"text-align: right;\">\n",
       "      <th></th>\n",
       "      <th>Rank</th>\n",
       "      <th>Film</th>\n",
       "      <th>Year</th>\n",
       "      <th>Genre</th>\n",
       "      <th>Rating</th>\n",
       "      <th>Runtime</th>\n",
       "      <th>Director</th>\n",
       "      <th>Also starring</th>\n",
       "      <th>Description</th>\n",
       "      <th>Score</th>\n",
       "    </tr>\n",
       "  </thead>\n",
       "  <tbody>\n",
       "    <tr>\n",
       "      <th>0</th>\n",
       "      <td>1</td>\n",
       "      <td>The Little Devil</td>\n",
       "      <td>1988</td>\n",
       "      <td>Comedy, Fantasy, Romance</td>\n",
       "      <td>None</td>\n",
       "      <td>101</td>\n",
       "      <td>Roberto Benigni</td>\n",
       "      <td>Roberto Benigni, Walter Matthau, Stefania Sandrelli, Giacomo Piperno</td>\n",
       "      <td>During an exorcism, father Maurice meets a little devil named Giuditta, who refuses to return to hell and decides to discover the world.</td>\n",
       "      <td>6.791487</td>\n",
       "    </tr>\n",
       "    <tr>\n",
       "      <th>1</th>\n",
       "      <td>2</td>\n",
       "      <td>Stick It</td>\n",
       "      <td>2006</td>\n",
       "      <td>Comedy, Drama, Sport</td>\n",
       "      <td>PG-13</td>\n",
       "      <td>103</td>\n",
       "      <td>Jessica Bendinger</td>\n",
       "      <td>Missy Peregrym, Jeff Bridges, Vanessa Lengies, Nikki SooHoo</td>\n",
       "      <td>After a run-in with the law, Haley Graham (Missy Peregrym) is forced to return to the world from which she fled some years ago. Enrolled in an elite gymnastics program run by the legendary Burt Vickerman (Jeff Bridges), Haley's rebellious attitude gives way to something that just might be called...</td>\n",
       "      <td>6.386718</td>\n",
       "    </tr>\n",
       "    <tr>\n",
       "      <th>2</th>\n",
       "      <td>3</td>\n",
       "      <td>Spy Cat</td>\n",
       "      <td>2018</td>\n",
       "      <td>Animation, Adventure, Family</td>\n",
       "      <td>PG</td>\n",
       "      <td>92</td>\n",
       "      <td>Christoph Lauenstein</td>\n",
       "      <td>Alexandra Neldel, Axel Prahl, Sylvain Urban, Erik Borner</td>\n",
       "      <td>Marnie is a chubby cat, treated like a princess and getting everything she wants. When she is forced to make her own way in the world, she realizes who she really is - a lonely cat in need of friends.</td>\n",
       "      <td>5.843309</td>\n",
       "    </tr>\n",
       "    <tr>\n",
       "      <th>3</th>\n",
       "      <td>4</td>\n",
       "      <td>Swift</td>\n",
       "      <td>2019</td>\n",
       "      <td>Animation, Adventure, Comedy</td>\n",
       "      <td>Not Rated</td>\n",
       "      <td>90</td>\n",
       "      <td>Andrea Block</td>\n",
       "      <td>Kate Winslet, Willem Dafoe, Josh Keaton, Cassandra Steen</td>\n",
       "      <td>The little swift Manou grows up believing he's a seagull learning to fly he finds out he never will be. When he runs from home he meets birds of his own species and finds out who he really is.</td>\n",
       "      <td>5.748944</td>\n",
       "    </tr>\n",
       "    <tr>\n",
       "      <th>4</th>\n",
       "      <td>5</td>\n",
       "      <td>Skylines</td>\n",
       "      <td>2020</td>\n",
       "      <td>Action, Adventure, Sci-Fi</td>\n",
       "      <td>R</td>\n",
       "      <td>113</td>\n",
       "      <td>Liam O'Donnell</td>\n",
       "      <td>Lindsey Morgan, Jonathan Howard, Daniel Bernhardt, Rhona Mitra</td>\n",
       "      <td>When a virus threatens to turn the now earth-dwelling friendly alien hybrids against humans, Captain Rose Corley must lead a team of elite mercenaries on a mission to the alien world in order to save what's left of humanity.</td>\n",
       "      <td>5.014169</td>\n",
       "    </tr>\n",
       "  </tbody>\n",
       "</table>\n",
       "</div>"
      ],
      "text/plain": [
       "   Rank              Film  Year                         Genre     Rating  \\\n",
       "0     1  The Little Devil  1988      Comedy, Fantasy, Romance       None   \n",
       "1     2          Stick It  2006          Comedy, Drama, Sport      PG-13   \n",
       "2     3           Spy Cat  2018  Animation, Adventure, Family         PG   \n",
       "3     4             Swift  2019  Animation, Adventure, Comedy  Not Rated   \n",
       "4     5          Skylines  2020     Action, Adventure, Sci-Fi          R   \n",
       "\n",
       "   Runtime              Director  \\\n",
       "0      101       Roberto Benigni   \n",
       "1      103     Jessica Bendinger   \n",
       "2       92  Christoph Lauenstein   \n",
       "3       90          Andrea Block   \n",
       "4      113        Liam O'Donnell   \n",
       "\n",
       "                                                          Also starring  \\\n",
       "0  Roberto Benigni, Walter Matthau, Stefania Sandrelli, Giacomo Piperno   \n",
       "1           Missy Peregrym, Jeff Bridges, Vanessa Lengies, Nikki SooHoo   \n",
       "2              Alexandra Neldel, Axel Prahl, Sylvain Urban, Erik Borner   \n",
       "3              Kate Winslet, Willem Dafoe, Josh Keaton, Cassandra Steen   \n",
       "4        Lindsey Morgan, Jonathan Howard, Daniel Bernhardt, Rhona Mitra   \n",
       "\n",
       "                                                                                                                                                                                                                                                                                                   Description  \\\n",
       "0                                                                                                                                                                     During an exorcism, father Maurice meets a little devil named Giuditta, who refuses to return to hell and decides to discover the world.   \n",
       "1  After a run-in with the law, Haley Graham (Missy Peregrym) is forced to return to the world from which she fled some years ago. Enrolled in an elite gymnastics program run by the legendary Burt Vickerman (Jeff Bridges), Haley's rebellious attitude gives way to something that just might be called...   \n",
       "2                                                                                                     Marnie is a chubby cat, treated like a princess and getting everything she wants. When she is forced to make her own way in the world, she realizes who she really is - a lonely cat in need of friends.   \n",
       "3                                                                                                             The little swift Manou grows up believing he's a seagull learning to fly he finds out he never will be. When he runs from home he meets birds of his own species and finds out who he really is.   \n",
       "4                                                                             When a virus threatens to turn the now earth-dwelling friendly alien hybrids against humans, Captain Rose Corley must lead a team of elite mercenaries on a mission to the alien world in order to save what's left of humanity.   \n",
       "\n",
       "      Score  \n",
       "0  6.791487  \n",
       "1  6.386718  \n",
       "2  5.843309  \n",
       "3  5.748944  \n",
       "4  5.014169  "
      ]
     },
     "execution_count": 448,
     "metadata": {},
     "output_type": "execute_result"
    }
   ],
   "source": [
    "recommend_byTitle(\"The Avengers\", cossim=cossim3)"
   ]
  },
  {
   "cell_type": "code",
   "execution_count": null,
   "id": "close-greek",
   "metadata": {},
   "outputs": [],
   "source": []
  }
 ],
 "metadata": {
  "kernelspec": {
   "display_name": "Python 3",
   "language": "python",
   "name": "python3"
  },
  "language_info": {
   "codemirror_mode": {
    "name": "ipython",
    "version": 3
   },
   "file_extension": ".py",
   "mimetype": "text/x-python",
   "name": "python",
   "nbconvert_exporter": "python",
   "pygments_lexer": "ipython3",
   "version": "3.9.2"
  }
 },
 "nbformat": 4,
 "nbformat_minor": 5
}
